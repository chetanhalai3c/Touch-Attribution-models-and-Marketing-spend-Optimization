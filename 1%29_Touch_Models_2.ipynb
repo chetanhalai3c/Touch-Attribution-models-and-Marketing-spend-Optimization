{
 "cells": [
  {
   "cell_type": "markdown",
   "metadata": {},
   "source": [
    "Business Objective\n",
    "Advertisers use various online marketing channels to reach consumers, and they\n",
    "typically want to know how much each channel contributes to their marketing\n",
    "success. This is what is known as multi-channel attribution.\n",
    "\n",
    "In many cases, advertisers approach this problem using simple models that help\n",
    "them understand the importance of each marketing channel.\n",
    "\n",
    "In this project, different types of models are built to help understand the channles that lead to greater customer conversion. This wil imporove the advertising ROI \n",
    "by quantifying the actual value of the multi-faceted advertising campaigns. This will enable business stakeholders\n",
    "to make decisions based on the millions of converting click paths by isolating theimpact of every touchpoint.\n",
    "\n",
    "The project aims at building multiple attribution models on the given dataset to discover channels leading to greater customer conversions.\n"
   ]
  },
  {
   "cell_type": "markdown",
   "metadata": {},
   "source": [
    "IMPORT PACKAGES "
   ]
  },
  {
   "cell_type": "code",
   "execution_count": 27,
   "metadata": {},
   "outputs": [],
   "source": [
    "#!pip install gekko\n",
    "#!pip install -U pandas-profiling"
   ]
  },
  {
   "cell_type": "code",
   "execution_count": 28,
   "metadata": {},
   "outputs": [
    {
     "name": "stdout",
     "output_type": "stream",
     "text": [
      "Requirement already satisfied: matplotlib in /Library/Frameworks/Python.framework/Versions/3.9/lib/python3.9/site-packages (3.8.0)\n",
      "Requirement already satisfied: contourpy>=1.0.1 in /Library/Frameworks/Python.framework/Versions/3.9/lib/python3.9/site-packages (from matplotlib) (1.1.1)\n",
      "Requirement already satisfied: cycler>=0.10 in /Library/Frameworks/Python.framework/Versions/3.9/lib/python3.9/site-packages (from matplotlib) (0.11.0)\n",
      "Requirement already satisfied: fonttools>=4.22.0 in /Library/Frameworks/Python.framework/Versions/3.9/lib/python3.9/site-packages (from matplotlib) (4.36.0)\n",
      "Requirement already satisfied: kiwisolver>=1.0.1 in /Library/Frameworks/Python.framework/Versions/3.9/lib/python3.9/site-packages (from matplotlib) (1.4.4)\n",
      "Requirement already satisfied: numpy<2,>=1.21 in /Library/Frameworks/Python.framework/Versions/3.9/lib/python3.9/site-packages (from matplotlib) (1.22.4)\n",
      "Requirement already satisfied: packaging>=20.0 in /Library/Frameworks/Python.framework/Versions/3.9/lib/python3.9/site-packages (from matplotlib) (21.3)\n",
      "Requirement already satisfied: pillow>=6.2.0 in /Library/Frameworks/Python.framework/Versions/3.9/lib/python3.9/site-packages (from matplotlib) (9.2.0)\n",
      "Requirement already satisfied: pyparsing>=2.3.1 in /Library/Frameworks/Python.framework/Versions/3.9/lib/python3.9/site-packages (from matplotlib) (2.4.7)\n",
      "Requirement already satisfied: python-dateutil>=2.7 in /Library/Frameworks/Python.framework/Versions/3.9/lib/python3.9/site-packages (from matplotlib) (2.8.2)\n",
      "Requirement already satisfied: importlib-resources>=3.2.0 in /Library/Frameworks/Python.framework/Versions/3.9/lib/python3.9/site-packages (from matplotlib) (6.1.0)\n",
      "Requirement already satisfied: zipp>=3.1.0 in /Library/Frameworks/Python.framework/Versions/3.9/lib/python3.9/site-packages (from importlib-resources>=3.2.0->matplotlib) (3.16.2)\n",
      "Requirement already satisfied: six>=1.5 in /Library/Frameworks/Python.framework/Versions/3.9/lib/python3.9/site-packages (from python-dateutil>=2.7->matplotlib) (1.15.0)\n"
     ]
    }
   ],
   "source": [
    "!pip install --upgrade matplotlib\n"
   ]
  },
  {
   "cell_type": "code",
   "execution_count": 29,
   "metadata": {},
   "outputs": [],
   "source": [
    "import pandas as pd\n",
    "import itertools\n",
    "from collections import defaultdict\n",
    "from itertools import permutations,combinations\n",
    "import numpy as np\n",
    "from collections import Counter\n",
    "import matplotlib.pyplot as plt\n",
    "from pandas.plotting import scatter_matrix\n",
    "%matplotlib inline\n",
    "import seaborn as sns\n",
    "from gekko import GEKKO\n",
    "#from pandas_profiling import ProfileReport\n",
    "from PIL import Image\n",
    "import requests\n",
    "import datetime as dt"
   ]
  },
  {
   "cell_type": "markdown",
   "metadata": {},
   "source": [
    "## DATA IMPORTATION "
   ]
  },
  {
   "cell_type": "code",
   "execution_count": 30,
   "metadata": {},
   "outputs": [],
   "source": [
    "df = pd.read_csv('/Users/chetanhalai/Desktop/Touch-Attribution-models-and-Marketing-spend-Optimization/data/attribution_data.csv')"
   ]
  },
  {
   "cell_type": "markdown",
   "metadata": {},
   "source": [
    "Sanity Check (Data Validation)"
   ]
  },
  {
   "cell_type": "code",
   "execution_count": 31,
   "metadata": {},
   "outputs": [
    {
     "data": {
      "text/html": [
       "<div>\n",
       "<style scoped>\n",
       "    .dataframe tbody tr th:only-of-type {\n",
       "        vertical-align: middle;\n",
       "    }\n",
       "\n",
       "    .dataframe tbody tr th {\n",
       "        vertical-align: top;\n",
       "    }\n",
       "\n",
       "    .dataframe thead th {\n",
       "        text-align: right;\n",
       "    }\n",
       "</style>\n",
       "<table border=\"1\" class=\"dataframe\">\n",
       "  <thead>\n",
       "    <tr style=\"text-align: right;\">\n",
       "      <th></th>\n",
       "      <th>cookie</th>\n",
       "      <th>time</th>\n",
       "      <th>interaction</th>\n",
       "      <th>conversion</th>\n",
       "      <th>conversion_value</th>\n",
       "      <th>channel</th>\n",
       "    </tr>\n",
       "  </thead>\n",
       "  <tbody>\n",
       "    <tr>\n",
       "      <th>0</th>\n",
       "      <td>00000FkCnDfDDf0iC97iC703B</td>\n",
       "      <td>2018-07-03T13:02:11Z</td>\n",
       "      <td>impression</td>\n",
       "      <td>0</td>\n",
       "      <td>0.0</td>\n",
       "      <td>Instagram</td>\n",
       "    </tr>\n",
       "    <tr>\n",
       "      <th>1</th>\n",
       "      <td>00000FkCnDfDDf0iC97iC703B</td>\n",
       "      <td>2018-07-17T19:15:07Z</td>\n",
       "      <td>impression</td>\n",
       "      <td>0</td>\n",
       "      <td>0.0</td>\n",
       "      <td>Online Display</td>\n",
       "    </tr>\n",
       "    <tr>\n",
       "      <th>2</th>\n",
       "      <td>00000FkCnDfDDf0iC97iC703B</td>\n",
       "      <td>2018-07-24T15:51:46Z</td>\n",
       "      <td>impression</td>\n",
       "      <td>0</td>\n",
       "      <td>0.0</td>\n",
       "      <td>Online Display</td>\n",
       "    </tr>\n",
       "    <tr>\n",
       "      <th>3</th>\n",
       "      <td>00000FkCnDfDDf0iC97iC703B</td>\n",
       "      <td>2018-07-29T07:44:51Z</td>\n",
       "      <td>impression</td>\n",
       "      <td>0</td>\n",
       "      <td>0.0</td>\n",
       "      <td>Online Display</td>\n",
       "    </tr>\n",
       "    <tr>\n",
       "      <th>4</th>\n",
       "      <td>0000nACkD9nFkBBDECD3ki00E</td>\n",
       "      <td>2018-07-03T09:44:57Z</td>\n",
       "      <td>impression</td>\n",
       "      <td>0</td>\n",
       "      <td>0.0</td>\n",
       "      <td>Paid Search</td>\n",
       "    </tr>\n",
       "  </tbody>\n",
       "</table>\n",
       "</div>"
      ],
      "text/plain": [
       "                      cookie                  time interaction  conversion  \\\n",
       "0  00000FkCnDfDDf0iC97iC703B  2018-07-03T13:02:11Z  impression           0   \n",
       "1  00000FkCnDfDDf0iC97iC703B  2018-07-17T19:15:07Z  impression           0   \n",
       "2  00000FkCnDfDDf0iC97iC703B  2018-07-24T15:51:46Z  impression           0   \n",
       "3  00000FkCnDfDDf0iC97iC703B  2018-07-29T07:44:51Z  impression           0   \n",
       "4  0000nACkD9nFkBBDECD3ki00E  2018-07-03T09:44:57Z  impression           0   \n",
       "\n",
       "   conversion_value         channel  \n",
       "0               0.0       Instagram  \n",
       "1               0.0  Online Display  \n",
       "2               0.0  Online Display  \n",
       "3               0.0  Online Display  \n",
       "4               0.0     Paid Search  "
      ]
     },
     "execution_count": 31,
     "metadata": {},
     "output_type": "execute_result"
    }
   ],
   "source": [
    "df.head()"
   ]
  },
  {
   "cell_type": "code",
   "execution_count": 32,
   "metadata": {},
   "outputs": [
    {
     "data": {
      "text/html": [
       "<div>\n",
       "<style scoped>\n",
       "    .dataframe tbody tr th:only-of-type {\n",
       "        vertical-align: middle;\n",
       "    }\n",
       "\n",
       "    .dataframe tbody tr th {\n",
       "        vertical-align: top;\n",
       "    }\n",
       "\n",
       "    .dataframe thead th {\n",
       "        text-align: right;\n",
       "    }\n",
       "</style>\n",
       "<table border=\"1\" class=\"dataframe\">\n",
       "  <thead>\n",
       "    <tr style=\"text-align: right;\">\n",
       "      <th></th>\n",
       "      <th>cookie</th>\n",
       "      <th>time</th>\n",
       "      <th>interaction</th>\n",
       "      <th>conversion</th>\n",
       "      <th>conversion_value</th>\n",
       "      <th>channel</th>\n",
       "    </tr>\n",
       "  </thead>\n",
       "  <tbody>\n",
       "    <tr>\n",
       "      <th>586732</th>\n",
       "      <td>ooooEiB0CCoEf9fiiC90Dfhfk</td>\n",
       "      <td>2018-07-12T23:50:45Z</td>\n",
       "      <td>impression</td>\n",
       "      <td>0</td>\n",
       "      <td>0.0</td>\n",
       "      <td>Online Display</td>\n",
       "    </tr>\n",
       "    <tr>\n",
       "      <th>586733</th>\n",
       "      <td>ooooEiB0CCoEf9fiiC90Dfhfk</td>\n",
       "      <td>2018-07-12T23:50:54Z</td>\n",
       "      <td>impression</td>\n",
       "      <td>0</td>\n",
       "      <td>0.0</td>\n",
       "      <td>Online Display</td>\n",
       "    </tr>\n",
       "    <tr>\n",
       "      <th>586734</th>\n",
       "      <td>ooooiBh70D3k3BfAhDFfii9h7</td>\n",
       "      <td>2018-07-03T12:57:25Z</td>\n",
       "      <td>impression</td>\n",
       "      <td>0</td>\n",
       "      <td>0.0</td>\n",
       "      <td>Paid Search</td>\n",
       "    </tr>\n",
       "    <tr>\n",
       "      <th>586735</th>\n",
       "      <td>ooooiBh70D3k3BfAhDFfii9h7</td>\n",
       "      <td>2018-07-19T08:17:59Z</td>\n",
       "      <td>impression</td>\n",
       "      <td>0</td>\n",
       "      <td>0.0</td>\n",
       "      <td>Online Video</td>\n",
       "    </tr>\n",
       "    <tr>\n",
       "      <th>586736</th>\n",
       "      <td>ooooohAFofEnonEikhAi3fF9o</td>\n",
       "      <td>2018-07-14T17:17:12Z</td>\n",
       "      <td>impression</td>\n",
       "      <td>0</td>\n",
       "      <td>0.0</td>\n",
       "      <td>Paid Search</td>\n",
       "    </tr>\n",
       "  </tbody>\n",
       "</table>\n",
       "</div>"
      ],
      "text/plain": [
       "                           cookie                  time interaction  \\\n",
       "586732  ooooEiB0CCoEf9fiiC90Dfhfk  2018-07-12T23:50:45Z  impression   \n",
       "586733  ooooEiB0CCoEf9fiiC90Dfhfk  2018-07-12T23:50:54Z  impression   \n",
       "586734  ooooiBh70D3k3BfAhDFfii9h7  2018-07-03T12:57:25Z  impression   \n",
       "586735  ooooiBh70D3k3BfAhDFfii9h7  2018-07-19T08:17:59Z  impression   \n",
       "586736  ooooohAFofEnonEikhAi3fF9o  2018-07-14T17:17:12Z  impression   \n",
       "\n",
       "        conversion  conversion_value         channel  \n",
       "586732           0               0.0  Online Display  \n",
       "586733           0               0.0  Online Display  \n",
       "586734           0               0.0     Paid Search  \n",
       "586735           0               0.0    Online Video  \n",
       "586736           0               0.0     Paid Search  "
      ]
     },
     "execution_count": 32,
     "metadata": {},
     "output_type": "execute_result"
    }
   ],
   "source": [
    "df.tail()"
   ]
  },
  {
   "cell_type": "markdown",
   "metadata": {},
   "source": [
    "**Observation**\n",
    "\n",
    "- Overview of the data . The first and last 5 rows look similar "
   ]
  },
  {
   "cell_type": "markdown",
   "metadata": {},
   "source": [
    "**Checking the dimensions of the data**"
   ]
  },
  {
   "cell_type": "code",
   "execution_count": 33,
   "metadata": {},
   "outputs": [
    {
     "data": {
      "text/plain": [
       "(586737, 6)"
      ]
     },
     "execution_count": 33,
     "metadata": {},
     "output_type": "execute_result"
    }
   ],
   "source": [
    "df.shape"
   ]
  },
  {
   "cell_type": "markdown",
   "metadata": {},
   "source": [
    "**Observation**\n",
    "\n",
    "- 586737 rows and 6 columns\n"
   ]
  },
  {
   "cell_type": "markdown",
   "metadata": {},
   "source": [
    "**Checking and Verifying data types**"
   ]
  },
  {
   "cell_type": "code",
   "execution_count": 34,
   "metadata": {},
   "outputs": [
    {
     "data": {
      "text/plain": [
       "cookie               object\n",
       "time                 object\n",
       "interaction          object\n",
       "conversion            int64\n",
       "conversion_value    float64\n",
       "channel              object\n",
       "dtype: object"
      ]
     },
     "execution_count": 34,
     "metadata": {},
     "output_type": "execute_result"
    }
   ],
   "source": [
    "df.dtypes"
   ]
  },
  {
   "cell_type": "markdown",
   "metadata": {},
   "source": [
    "**Observation**\n",
    "\n",
    "- All the columns have the correct data types, except the 'time' which needs to be a time series "
   ]
  },
  {
   "cell_type": "code",
   "execution_count": 35,
   "metadata": {},
   "outputs": [
    {
     "data": {
      "text/plain": [
       "0         2018-07-03T13:02:11Z\n",
       "1         2018-07-17T19:15:07Z\n",
       "2         2018-07-24T15:51:46Z\n",
       "3         2018-07-29T07:44:51Z\n",
       "4         2018-07-03T09:44:57Z\n",
       "                  ...         \n",
       "586732    2018-07-12T23:50:45Z\n",
       "586733    2018-07-12T23:50:54Z\n",
       "586734    2018-07-03T12:57:25Z\n",
       "586735    2018-07-19T08:17:59Z\n",
       "586736    2018-07-14T17:17:12Z\n",
       "Name: time, Length: 586737, dtype: object"
      ]
     },
     "execution_count": 35,
     "metadata": {},
     "output_type": "execute_result"
    }
   ],
   "source": [
    "df.time"
   ]
  },
  {
   "cell_type": "code",
   "execution_count": 36,
   "metadata": {},
   "outputs": [],
   "source": [
    "df['time'] = pd.to_datetime(df['time'])"
   ]
  },
  {
   "cell_type": "code",
   "execution_count": 37,
   "metadata": {},
   "outputs": [
    {
     "data": {
      "text/plain": [
       "0        2018-07-03 13:02:11+00:00\n",
       "1        2018-07-17 19:15:07+00:00\n",
       "2        2018-07-24 15:51:46+00:00\n",
       "3        2018-07-29 07:44:51+00:00\n",
       "4        2018-07-03 09:44:57+00:00\n",
       "                    ...           \n",
       "586732   2018-07-12 23:50:45+00:00\n",
       "586733   2018-07-12 23:50:54+00:00\n",
       "586734   2018-07-03 12:57:25+00:00\n",
       "586735   2018-07-19 08:17:59+00:00\n",
       "586736   2018-07-14 17:17:12+00:00\n",
       "Name: time, Length: 586737, dtype: datetime64[ns, UTC]"
      ]
     },
     "execution_count": 37,
     "metadata": {},
     "output_type": "execute_result"
    }
   ],
   "source": [
    "df.time"
   ]
  },
  {
   "cell_type": "code",
   "execution_count": 38,
   "metadata": {},
   "outputs": [
    {
     "data": {
      "text/plain": [
       "cookie                           object\n",
       "time                datetime64[ns, UTC]\n",
       "interaction                      object\n",
       "conversion                        int64\n",
       "conversion_value                float64\n",
       "channel                          object\n",
       "dtype: object"
      ]
     },
     "execution_count": 38,
     "metadata": {},
     "output_type": "execute_result"
    }
   ],
   "source": [
    "df.dtypes"
   ]
  },
  {
   "cell_type": "markdown",
   "metadata": {},
   "source": [
    "**Checking for Missing Values**\n"
   ]
  },
  {
   "cell_type": "code",
   "execution_count": 39,
   "metadata": {},
   "outputs": [
    {
     "data": {
      "text/plain": [
       "cookie              0\n",
       "time                0\n",
       "interaction         0\n",
       "conversion          0\n",
       "conversion_value    0\n",
       "channel             0\n",
       "dtype: int64"
      ]
     },
     "execution_count": 39,
     "metadata": {},
     "output_type": "execute_result"
    }
   ],
   "source": [
    "df.isnull().sum()"
   ]
  },
  {
   "cell_type": "markdown",
   "metadata": {},
   "source": [
    "**Observation**\n",
    "There apprears to be no missing values "
   ]
  },
  {
   "cell_type": "markdown",
   "metadata": {},
   "source": [
    "**Checking for Duplicates**"
   ]
  },
  {
   "cell_type": "code",
   "execution_count": 40,
   "metadata": {},
   "outputs": [
    {
     "data": {
      "text/plain": [
       "4145"
      ]
     },
     "execution_count": 40,
     "metadata": {},
     "output_type": "execute_result"
    }
   ],
   "source": [
    "df.duplicated().sum()"
   ]
  },
  {
   "cell_type": "code",
   "execution_count": 41,
   "metadata": {},
   "outputs": [
    {
     "data": {
      "text/html": [
       "<div>\n",
       "<style scoped>\n",
       "    .dataframe tbody tr th:only-of-type {\n",
       "        vertical-align: middle;\n",
       "    }\n",
       "\n",
       "    .dataframe tbody tr th {\n",
       "        vertical-align: top;\n",
       "    }\n",
       "\n",
       "    .dataframe thead th {\n",
       "        text-align: right;\n",
       "    }\n",
       "</style>\n",
       "<table border=\"1\" class=\"dataframe\">\n",
       "  <thead>\n",
       "    <tr style=\"text-align: right;\">\n",
       "      <th></th>\n",
       "      <th>cookie</th>\n",
       "      <th>time</th>\n",
       "      <th>interaction</th>\n",
       "      <th>conversion</th>\n",
       "      <th>conversion_value</th>\n",
       "      <th>channel</th>\n",
       "    </tr>\n",
       "  </thead>\n",
       "  <tbody>\n",
       "    <tr>\n",
       "      <th>92</th>\n",
       "      <td>000hCBnCB7oi7ADAEnEBCnBEE</td>\n",
       "      <td>2018-07-16 13:31:54+00:00</td>\n",
       "      <td>impression</td>\n",
       "      <td>0</td>\n",
       "      <td>0.0</td>\n",
       "      <td>Online Video</td>\n",
       "    </tr>\n",
       "    <tr>\n",
       "      <th>94</th>\n",
       "      <td>000hCBnCB7oi7ADAEnEBCnBEE</td>\n",
       "      <td>2018-07-16 13:32:19+00:00</td>\n",
       "      <td>impression</td>\n",
       "      <td>0</td>\n",
       "      <td>0.0</td>\n",
       "      <td>Online Video</td>\n",
       "    </tr>\n",
       "    <tr>\n",
       "      <th>178</th>\n",
       "      <td>0037ok3iD0h3kkEDCB0nk9iko</td>\n",
       "      <td>2018-07-11 11:54:56+00:00</td>\n",
       "      <td>impression</td>\n",
       "      <td>0</td>\n",
       "      <td>0.0</td>\n",
       "      <td>Online Video</td>\n",
       "    </tr>\n",
       "    <tr>\n",
       "      <th>181</th>\n",
       "      <td>0037ok3iD0h3kkEDCB0nk9iko</td>\n",
       "      <td>2018-07-11 11:55:46+00:00</td>\n",
       "      <td>impression</td>\n",
       "      <td>0</td>\n",
       "      <td>0.0</td>\n",
       "      <td>Online Video</td>\n",
       "    </tr>\n",
       "    <tr>\n",
       "      <th>184</th>\n",
       "      <td>0037ok3iD0h3kkEDCB0nk9iko</td>\n",
       "      <td>2018-07-11 11:55:49+00:00</td>\n",
       "      <td>impression</td>\n",
       "      <td>0</td>\n",
       "      <td>0.0</td>\n",
       "      <td>Online Video</td>\n",
       "    </tr>\n",
       "    <tr>\n",
       "      <th>...</th>\n",
       "      <td>...</td>\n",
       "      <td>...</td>\n",
       "      <td>...</td>\n",
       "      <td>...</td>\n",
       "      <td>...</td>\n",
       "      <td>...</td>\n",
       "    </tr>\n",
       "    <tr>\n",
       "      <th>585931</th>\n",
       "      <td>ooFfnA3E9k39hCCkk9A7ABiCf</td>\n",
       "      <td>2018-07-03 11:54:36+00:00</td>\n",
       "      <td>impression</td>\n",
       "      <td>0</td>\n",
       "      <td>0.0</td>\n",
       "      <td>Online Video</td>\n",
       "    </tr>\n",
       "    <tr>\n",
       "      <th>586037</th>\n",
       "      <td>oofEk3DkD3Bn9CA3nChFih3Ff</td>\n",
       "      <td>2018-07-20 18:45:35+00:00</td>\n",
       "      <td>impression</td>\n",
       "      <td>0</td>\n",
       "      <td>0.0</td>\n",
       "      <td>Paid Search</td>\n",
       "    </tr>\n",
       "    <tr>\n",
       "      <th>586127</th>\n",
       "      <td>ooh93E3D9EiCDhC7DnFEEFiA3</td>\n",
       "      <td>2018-07-10 06:50:06+00:00</td>\n",
       "      <td>impression</td>\n",
       "      <td>0</td>\n",
       "      <td>0.0</td>\n",
       "      <td>Online Video</td>\n",
       "    </tr>\n",
       "    <tr>\n",
       "      <th>586402</th>\n",
       "      <td>ookAiBfCiiAACCB77DhFiDAA7</td>\n",
       "      <td>2018-07-17 10:34:06+00:00</td>\n",
       "      <td>impression</td>\n",
       "      <td>0</td>\n",
       "      <td>0.0</td>\n",
       "      <td>Paid Search</td>\n",
       "    </tr>\n",
       "    <tr>\n",
       "      <th>586419</th>\n",
       "      <td>ookCAAEoon9B9770CnDCf79Bn</td>\n",
       "      <td>2018-07-17 10:34:16+00:00</td>\n",
       "      <td>impression</td>\n",
       "      <td>0</td>\n",
       "      <td>0.0</td>\n",
       "      <td>Online Video</td>\n",
       "    </tr>\n",
       "  </tbody>\n",
       "</table>\n",
       "<p>4145 rows × 6 columns</p>\n",
       "</div>"
      ],
      "text/plain": [
       "                           cookie                      time interaction  \\\n",
       "92      000hCBnCB7oi7ADAEnEBCnBEE 2018-07-16 13:31:54+00:00  impression   \n",
       "94      000hCBnCB7oi7ADAEnEBCnBEE 2018-07-16 13:32:19+00:00  impression   \n",
       "178     0037ok3iD0h3kkEDCB0nk9iko 2018-07-11 11:54:56+00:00  impression   \n",
       "181     0037ok3iD0h3kkEDCB0nk9iko 2018-07-11 11:55:46+00:00  impression   \n",
       "184     0037ok3iD0h3kkEDCB0nk9iko 2018-07-11 11:55:49+00:00  impression   \n",
       "...                           ...                       ...         ...   \n",
       "585931  ooFfnA3E9k39hCCkk9A7ABiCf 2018-07-03 11:54:36+00:00  impression   \n",
       "586037  oofEk3DkD3Bn9CA3nChFih3Ff 2018-07-20 18:45:35+00:00  impression   \n",
       "586127  ooh93E3D9EiCDhC7DnFEEFiA3 2018-07-10 06:50:06+00:00  impression   \n",
       "586402  ookAiBfCiiAACCB77DhFiDAA7 2018-07-17 10:34:06+00:00  impression   \n",
       "586419  ookCAAEoon9B9770CnDCf79Bn 2018-07-17 10:34:16+00:00  impression   \n",
       "\n",
       "        conversion  conversion_value       channel  \n",
       "92               0               0.0  Online Video  \n",
       "94               0               0.0  Online Video  \n",
       "178              0               0.0  Online Video  \n",
       "181              0               0.0  Online Video  \n",
       "184              0               0.0  Online Video  \n",
       "...            ...               ...           ...  \n",
       "585931           0               0.0  Online Video  \n",
       "586037           0               0.0   Paid Search  \n",
       "586127           0               0.0  Online Video  \n",
       "586402           0               0.0   Paid Search  \n",
       "586419           0               0.0  Online Video  \n",
       "\n",
       "[4145 rows x 6 columns]"
      ]
     },
     "execution_count": 41,
     "metadata": {},
     "output_type": "execute_result"
    }
   ],
   "source": [
    "df[df.duplicated()]"
   ]
  },
  {
   "cell_type": "code",
   "execution_count": 42,
   "metadata": {},
   "outputs": [
    {
     "data": {
      "text/html": [
       "<div>\n",
       "<style scoped>\n",
       "    .dataframe tbody tr th:only-of-type {\n",
       "        vertical-align: middle;\n",
       "    }\n",
       "\n",
       "    .dataframe tbody tr th {\n",
       "        vertical-align: top;\n",
       "    }\n",
       "\n",
       "    .dataframe thead th {\n",
       "        text-align: right;\n",
       "    }\n",
       "</style>\n",
       "<table border=\"1\" class=\"dataframe\">\n",
       "  <thead>\n",
       "    <tr style=\"text-align: right;\">\n",
       "      <th></th>\n",
       "      <th>cookie</th>\n",
       "      <th>time</th>\n",
       "      <th>interaction</th>\n",
       "      <th>conversion</th>\n",
       "      <th>conversion_value</th>\n",
       "      <th>channel</th>\n",
       "    </tr>\n",
       "  </thead>\n",
       "  <tbody>\n",
       "    <tr>\n",
       "      <th>86</th>\n",
       "      <td>000hCBnCB7oi7ADAEnEBCnBEE</td>\n",
       "      <td>2018-07-07 14:34:54+00:00</td>\n",
       "      <td>impression</td>\n",
       "      <td>0</td>\n",
       "      <td>0.0</td>\n",
       "      <td>Online Video</td>\n",
       "    </tr>\n",
       "    <tr>\n",
       "      <th>87</th>\n",
       "      <td>000hCBnCB7oi7ADAEnEBCnBEE</td>\n",
       "      <td>2018-07-07 14:35:22+00:00</td>\n",
       "      <td>impression</td>\n",
       "      <td>0</td>\n",
       "      <td>0.0</td>\n",
       "      <td>Online Video</td>\n",
       "    </tr>\n",
       "    <tr>\n",
       "      <th>88</th>\n",
       "      <td>000hCBnCB7oi7ADAEnEBCnBEE</td>\n",
       "      <td>2018-07-13 20:21:34+00:00</td>\n",
       "      <td>impression</td>\n",
       "      <td>0</td>\n",
       "      <td>0.0</td>\n",
       "      <td>Online Video</td>\n",
       "    </tr>\n",
       "    <tr>\n",
       "      <th>89</th>\n",
       "      <td>000hCBnCB7oi7ADAEnEBCnBEE</td>\n",
       "      <td>2018-07-13 20:29:35+00:00</td>\n",
       "      <td>impression</td>\n",
       "      <td>0</td>\n",
       "      <td>0.0</td>\n",
       "      <td>Online Video</td>\n",
       "    </tr>\n",
       "    <tr>\n",
       "      <th>90</th>\n",
       "      <td>000hCBnCB7oi7ADAEnEBCnBEE</td>\n",
       "      <td>2018-07-14 17:08:19+00:00</td>\n",
       "      <td>impression</td>\n",
       "      <td>0</td>\n",
       "      <td>0.0</td>\n",
       "      <td>Online Video</td>\n",
       "    </tr>\n",
       "    <tr>\n",
       "      <th>91</th>\n",
       "      <td>000hCBnCB7oi7ADAEnEBCnBEE</td>\n",
       "      <td>2018-07-16 13:31:54+00:00</td>\n",
       "      <td>impression</td>\n",
       "      <td>0</td>\n",
       "      <td>0.0</td>\n",
       "      <td>Online Video</td>\n",
       "    </tr>\n",
       "    <tr>\n",
       "      <th>92</th>\n",
       "      <td>000hCBnCB7oi7ADAEnEBCnBEE</td>\n",
       "      <td>2018-07-16 13:31:54+00:00</td>\n",
       "      <td>impression</td>\n",
       "      <td>0</td>\n",
       "      <td>0.0</td>\n",
       "      <td>Online Video</td>\n",
       "    </tr>\n",
       "    <tr>\n",
       "      <th>93</th>\n",
       "      <td>000hCBnCB7oi7ADAEnEBCnBEE</td>\n",
       "      <td>2018-07-16 13:32:19+00:00</td>\n",
       "      <td>impression</td>\n",
       "      <td>0</td>\n",
       "      <td>0.0</td>\n",
       "      <td>Online Video</td>\n",
       "    </tr>\n",
       "    <tr>\n",
       "      <th>94</th>\n",
       "      <td>000hCBnCB7oi7ADAEnEBCnBEE</td>\n",
       "      <td>2018-07-16 13:32:19+00:00</td>\n",
       "      <td>impression</td>\n",
       "      <td>0</td>\n",
       "      <td>0.0</td>\n",
       "      <td>Online Video</td>\n",
       "    </tr>\n",
       "    <tr>\n",
       "      <th>95</th>\n",
       "      <td>000hCBnCB7oi7ADAEnEBCnBEE</td>\n",
       "      <td>2018-07-16 13:32:21+00:00</td>\n",
       "      <td>impression</td>\n",
       "      <td>0</td>\n",
       "      <td>0.0</td>\n",
       "      <td>Online Video</td>\n",
       "    </tr>\n",
       "    <tr>\n",
       "      <th>96</th>\n",
       "      <td>000hCBnCB7oi7ADAEnEBCnBEE</td>\n",
       "      <td>2018-07-16 13:32:23+00:00</td>\n",
       "      <td>impression</td>\n",
       "      <td>0</td>\n",
       "      <td>0.0</td>\n",
       "      <td>Online Video</td>\n",
       "    </tr>\n",
       "    <tr>\n",
       "      <th>97</th>\n",
       "      <td>000hCBnCB7oi7ADAEnEBCnBEE</td>\n",
       "      <td>2018-07-18 09:52:44+00:00</td>\n",
       "      <td>impression</td>\n",
       "      <td>0</td>\n",
       "      <td>0.0</td>\n",
       "      <td>Online Video</td>\n",
       "    </tr>\n",
       "    <tr>\n",
       "      <th>98</th>\n",
       "      <td>000hCBnCB7oi7ADAEnEBCnBEE</td>\n",
       "      <td>2018-07-18 09:52:46+00:00</td>\n",
       "      <td>impression</td>\n",
       "      <td>0</td>\n",
       "      <td>0.0</td>\n",
       "      <td>Online Video</td>\n",
       "    </tr>\n",
       "    <tr>\n",
       "      <th>99</th>\n",
       "      <td>000hCBnCB7oi7ADAEnEBCnBEE</td>\n",
       "      <td>2018-07-21 10:40:24+00:00</td>\n",
       "      <td>impression</td>\n",
       "      <td>0</td>\n",
       "      <td>0.0</td>\n",
       "      <td>Online Video</td>\n",
       "    </tr>\n",
       "    <tr>\n",
       "      <th>100</th>\n",
       "      <td>000hCBnCB7oi7ADAEnEBCnBEE</td>\n",
       "      <td>2018-07-21 13:05:55+00:00</td>\n",
       "      <td>impression</td>\n",
       "      <td>0</td>\n",
       "      <td>0.0</td>\n",
       "      <td>Online Video</td>\n",
       "    </tr>\n",
       "    <tr>\n",
       "      <th>101</th>\n",
       "      <td>000hCBnCB7oi7ADAEnEBCnBEE</td>\n",
       "      <td>2018-07-21 13:06:10+00:00</td>\n",
       "      <td>impression</td>\n",
       "      <td>0</td>\n",
       "      <td>0.0</td>\n",
       "      <td>Online Video</td>\n",
       "    </tr>\n",
       "    <tr>\n",
       "      <th>102</th>\n",
       "      <td>000hCBnCB7oi7ADAEnEBCnBEE</td>\n",
       "      <td>2018-07-21 19:47:06+00:00</td>\n",
       "      <td>impression</td>\n",
       "      <td>0</td>\n",
       "      <td>0.0</td>\n",
       "      <td>Online Video</td>\n",
       "    </tr>\n",
       "    <tr>\n",
       "      <th>103</th>\n",
       "      <td>000hCBnCB7oi7ADAEnEBCnBEE</td>\n",
       "      <td>2018-07-22 13:15:06+00:00</td>\n",
       "      <td>impression</td>\n",
       "      <td>0</td>\n",
       "      <td>0.0</td>\n",
       "      <td>Online Video</td>\n",
       "    </tr>\n",
       "    <tr>\n",
       "      <th>104</th>\n",
       "      <td>000hCBnCB7oi7ADAEnEBCnBEE</td>\n",
       "      <td>2018-07-23 19:35:51+00:00</td>\n",
       "      <td>impression</td>\n",
       "      <td>0</td>\n",
       "      <td>0.0</td>\n",
       "      <td>Online Video</td>\n",
       "    </tr>\n",
       "    <tr>\n",
       "      <th>105</th>\n",
       "      <td>000hCBnCB7oi7ADAEnEBCnBEE</td>\n",
       "      <td>2018-07-24 09:50:23+00:00</td>\n",
       "      <td>impression</td>\n",
       "      <td>0</td>\n",
       "      <td>0.0</td>\n",
       "      <td>Instagram</td>\n",
       "    </tr>\n",
       "    <tr>\n",
       "      <th>106</th>\n",
       "      <td>000hCBnCB7oi7ADAEnEBCnBEE</td>\n",
       "      <td>2018-07-24 13:30:57+00:00</td>\n",
       "      <td>impression</td>\n",
       "      <td>0</td>\n",
       "      <td>0.0</td>\n",
       "      <td>Online Video</td>\n",
       "    </tr>\n",
       "    <tr>\n",
       "      <th>107</th>\n",
       "      <td>000hCBnCB7oi7ADAEnEBCnBEE</td>\n",
       "      <td>2018-07-24 13:30:58+00:00</td>\n",
       "      <td>impression</td>\n",
       "      <td>0</td>\n",
       "      <td>0.0</td>\n",
       "      <td>Online Video</td>\n",
       "    </tr>\n",
       "    <tr>\n",
       "      <th>108</th>\n",
       "      <td>000hCBnCB7oi7ADAEnEBCnBEE</td>\n",
       "      <td>2018-07-25 11:15:14+00:00</td>\n",
       "      <td>impression</td>\n",
       "      <td>0</td>\n",
       "      <td>0.0</td>\n",
       "      <td>Online Video</td>\n",
       "    </tr>\n",
       "    <tr>\n",
       "      <th>109</th>\n",
       "      <td>000hCBnCB7oi7ADAEnEBCnBEE</td>\n",
       "      <td>2018-07-25 11:15:16+00:00</td>\n",
       "      <td>conversion</td>\n",
       "      <td>1</td>\n",
       "      <td>6.5</td>\n",
       "      <td>Online Video</td>\n",
       "    </tr>\n",
       "  </tbody>\n",
       "</table>\n",
       "</div>"
      ],
      "text/plain": [
       "                        cookie                      time interaction  \\\n",
       "86   000hCBnCB7oi7ADAEnEBCnBEE 2018-07-07 14:34:54+00:00  impression   \n",
       "87   000hCBnCB7oi7ADAEnEBCnBEE 2018-07-07 14:35:22+00:00  impression   \n",
       "88   000hCBnCB7oi7ADAEnEBCnBEE 2018-07-13 20:21:34+00:00  impression   \n",
       "89   000hCBnCB7oi7ADAEnEBCnBEE 2018-07-13 20:29:35+00:00  impression   \n",
       "90   000hCBnCB7oi7ADAEnEBCnBEE 2018-07-14 17:08:19+00:00  impression   \n",
       "91   000hCBnCB7oi7ADAEnEBCnBEE 2018-07-16 13:31:54+00:00  impression   \n",
       "92   000hCBnCB7oi7ADAEnEBCnBEE 2018-07-16 13:31:54+00:00  impression   \n",
       "93   000hCBnCB7oi7ADAEnEBCnBEE 2018-07-16 13:32:19+00:00  impression   \n",
       "94   000hCBnCB7oi7ADAEnEBCnBEE 2018-07-16 13:32:19+00:00  impression   \n",
       "95   000hCBnCB7oi7ADAEnEBCnBEE 2018-07-16 13:32:21+00:00  impression   \n",
       "96   000hCBnCB7oi7ADAEnEBCnBEE 2018-07-16 13:32:23+00:00  impression   \n",
       "97   000hCBnCB7oi7ADAEnEBCnBEE 2018-07-18 09:52:44+00:00  impression   \n",
       "98   000hCBnCB7oi7ADAEnEBCnBEE 2018-07-18 09:52:46+00:00  impression   \n",
       "99   000hCBnCB7oi7ADAEnEBCnBEE 2018-07-21 10:40:24+00:00  impression   \n",
       "100  000hCBnCB7oi7ADAEnEBCnBEE 2018-07-21 13:05:55+00:00  impression   \n",
       "101  000hCBnCB7oi7ADAEnEBCnBEE 2018-07-21 13:06:10+00:00  impression   \n",
       "102  000hCBnCB7oi7ADAEnEBCnBEE 2018-07-21 19:47:06+00:00  impression   \n",
       "103  000hCBnCB7oi7ADAEnEBCnBEE 2018-07-22 13:15:06+00:00  impression   \n",
       "104  000hCBnCB7oi7ADAEnEBCnBEE 2018-07-23 19:35:51+00:00  impression   \n",
       "105  000hCBnCB7oi7ADAEnEBCnBEE 2018-07-24 09:50:23+00:00  impression   \n",
       "106  000hCBnCB7oi7ADAEnEBCnBEE 2018-07-24 13:30:57+00:00  impression   \n",
       "107  000hCBnCB7oi7ADAEnEBCnBEE 2018-07-24 13:30:58+00:00  impression   \n",
       "108  000hCBnCB7oi7ADAEnEBCnBEE 2018-07-25 11:15:14+00:00  impression   \n",
       "109  000hCBnCB7oi7ADAEnEBCnBEE 2018-07-25 11:15:16+00:00  conversion   \n",
       "\n",
       "     conversion  conversion_value       channel  \n",
       "86            0               0.0  Online Video  \n",
       "87            0               0.0  Online Video  \n",
       "88            0               0.0  Online Video  \n",
       "89            0               0.0  Online Video  \n",
       "90            0               0.0  Online Video  \n",
       "91            0               0.0  Online Video  \n",
       "92            0               0.0  Online Video  \n",
       "93            0               0.0  Online Video  \n",
       "94            0               0.0  Online Video  \n",
       "95            0               0.0  Online Video  \n",
       "96            0               0.0  Online Video  \n",
       "97            0               0.0  Online Video  \n",
       "98            0               0.0  Online Video  \n",
       "99            0               0.0  Online Video  \n",
       "100           0               0.0  Online Video  \n",
       "101           0               0.0  Online Video  \n",
       "102           0               0.0  Online Video  \n",
       "103           0               0.0  Online Video  \n",
       "104           0               0.0  Online Video  \n",
       "105           0               0.0     Instagram  \n",
       "106           0               0.0  Online Video  \n",
       "107           0               0.0  Online Video  \n",
       "108           0               0.0  Online Video  \n",
       "109           1               6.5  Online Video  "
      ]
     },
     "execution_count": 42,
     "metadata": {},
     "output_type": "execute_result"
    }
   ],
   "source": [
    "df[df['cookie'] == '000hCBnCB7oi7ADAEnEBCnBEE']"
   ]
  },
  {
   "cell_type": "markdown",
   "metadata": {},
   "source": [
    "**Observation**\n",
    "\n",
    "- Usually duplicates dont add value, however in a digital marketing context it may give us an insight into how many times an impression leads to an conversion. So i wont be dropping this data, as it provides useful insights going forward. "
   ]
  },
  {
   "cell_type": "markdown",
   "metadata": {},
   "source": [
    "**Feature Extraction** "
   ]
  },
  {
   "cell_type": "code",
   "execution_count": 43,
   "metadata": {},
   "outputs": [],
   "source": [
    "df['hour'] = df['time'].dt.hour\n",
    "df['mins'] = df['time'].dt.minute\n",
    "df['day'] = df['time'].dt.day\n",
    "df['month'] = df['time'].dt.month\n",
    "df['year'] = df['time'].dt.year\n",
    "df['dayofweek'] = df['time'].dt.dayofweek\n",
    "df['day_name'] = df['time'].dt.day_name()\n",
    "df['month_name'] = df['time'].dt.month_name()"
   ]
  },
  {
   "cell_type": "code",
   "execution_count": 44,
   "metadata": {},
   "outputs": [
    {
     "data": {
      "text/html": [
       "<div>\n",
       "<style scoped>\n",
       "    .dataframe tbody tr th:only-of-type {\n",
       "        vertical-align: middle;\n",
       "    }\n",
       "\n",
       "    .dataframe tbody tr th {\n",
       "        vertical-align: top;\n",
       "    }\n",
       "\n",
       "    .dataframe thead th {\n",
       "        text-align: right;\n",
       "    }\n",
       "</style>\n",
       "<table border=\"1\" class=\"dataframe\">\n",
       "  <thead>\n",
       "    <tr style=\"text-align: right;\">\n",
       "      <th></th>\n",
       "      <th>cookie</th>\n",
       "      <th>time</th>\n",
       "      <th>interaction</th>\n",
       "      <th>conversion</th>\n",
       "      <th>conversion_value</th>\n",
       "      <th>channel</th>\n",
       "      <th>hour</th>\n",
       "      <th>mins</th>\n",
       "      <th>day</th>\n",
       "      <th>month</th>\n",
       "      <th>year</th>\n",
       "      <th>dayofweek</th>\n",
       "      <th>day_name</th>\n",
       "      <th>month_name</th>\n",
       "    </tr>\n",
       "  </thead>\n",
       "  <tbody>\n",
       "    <tr>\n",
       "      <th>0</th>\n",
       "      <td>00000FkCnDfDDf0iC97iC703B</td>\n",
       "      <td>2018-07-03 13:02:11+00:00</td>\n",
       "      <td>impression</td>\n",
       "      <td>0</td>\n",
       "      <td>0.0</td>\n",
       "      <td>Instagram</td>\n",
       "      <td>13</td>\n",
       "      <td>2</td>\n",
       "      <td>3</td>\n",
       "      <td>7</td>\n",
       "      <td>2018</td>\n",
       "      <td>1</td>\n",
       "      <td>Tuesday</td>\n",
       "      <td>July</td>\n",
       "    </tr>\n",
       "    <tr>\n",
       "      <th>1</th>\n",
       "      <td>00000FkCnDfDDf0iC97iC703B</td>\n",
       "      <td>2018-07-17 19:15:07+00:00</td>\n",
       "      <td>impression</td>\n",
       "      <td>0</td>\n",
       "      <td>0.0</td>\n",
       "      <td>Online Display</td>\n",
       "      <td>19</td>\n",
       "      <td>15</td>\n",
       "      <td>17</td>\n",
       "      <td>7</td>\n",
       "      <td>2018</td>\n",
       "      <td>1</td>\n",
       "      <td>Tuesday</td>\n",
       "      <td>July</td>\n",
       "    </tr>\n",
       "    <tr>\n",
       "      <th>2</th>\n",
       "      <td>00000FkCnDfDDf0iC97iC703B</td>\n",
       "      <td>2018-07-24 15:51:46+00:00</td>\n",
       "      <td>impression</td>\n",
       "      <td>0</td>\n",
       "      <td>0.0</td>\n",
       "      <td>Online Display</td>\n",
       "      <td>15</td>\n",
       "      <td>51</td>\n",
       "      <td>24</td>\n",
       "      <td>7</td>\n",
       "      <td>2018</td>\n",
       "      <td>1</td>\n",
       "      <td>Tuesday</td>\n",
       "      <td>July</td>\n",
       "    </tr>\n",
       "    <tr>\n",
       "      <th>3</th>\n",
       "      <td>00000FkCnDfDDf0iC97iC703B</td>\n",
       "      <td>2018-07-29 07:44:51+00:00</td>\n",
       "      <td>impression</td>\n",
       "      <td>0</td>\n",
       "      <td>0.0</td>\n",
       "      <td>Online Display</td>\n",
       "      <td>7</td>\n",
       "      <td>44</td>\n",
       "      <td>29</td>\n",
       "      <td>7</td>\n",
       "      <td>2018</td>\n",
       "      <td>6</td>\n",
       "      <td>Sunday</td>\n",
       "      <td>July</td>\n",
       "    </tr>\n",
       "    <tr>\n",
       "      <th>4</th>\n",
       "      <td>0000nACkD9nFkBBDECD3ki00E</td>\n",
       "      <td>2018-07-03 09:44:57+00:00</td>\n",
       "      <td>impression</td>\n",
       "      <td>0</td>\n",
       "      <td>0.0</td>\n",
       "      <td>Paid Search</td>\n",
       "      <td>9</td>\n",
       "      <td>44</td>\n",
       "      <td>3</td>\n",
       "      <td>7</td>\n",
       "      <td>2018</td>\n",
       "      <td>1</td>\n",
       "      <td>Tuesday</td>\n",
       "      <td>July</td>\n",
       "    </tr>\n",
       "  </tbody>\n",
       "</table>\n",
       "</div>"
      ],
      "text/plain": [
       "                      cookie                      time interaction  \\\n",
       "0  00000FkCnDfDDf0iC97iC703B 2018-07-03 13:02:11+00:00  impression   \n",
       "1  00000FkCnDfDDf0iC97iC703B 2018-07-17 19:15:07+00:00  impression   \n",
       "2  00000FkCnDfDDf0iC97iC703B 2018-07-24 15:51:46+00:00  impression   \n",
       "3  00000FkCnDfDDf0iC97iC703B 2018-07-29 07:44:51+00:00  impression   \n",
       "4  0000nACkD9nFkBBDECD3ki00E 2018-07-03 09:44:57+00:00  impression   \n",
       "\n",
       "   conversion  conversion_value         channel  hour  mins  day  month  year  \\\n",
       "0           0               0.0       Instagram    13     2    3      7  2018   \n",
       "1           0               0.0  Online Display    19    15   17      7  2018   \n",
       "2           0               0.0  Online Display    15    51   24      7  2018   \n",
       "3           0               0.0  Online Display     7    44   29      7  2018   \n",
       "4           0               0.0     Paid Search     9    44    3      7  2018   \n",
       "\n",
       "   dayofweek day_name month_name  \n",
       "0          1  Tuesday       July  \n",
       "1          1  Tuesday       July  \n",
       "2          1  Tuesday       July  \n",
       "3          6   Sunday       July  \n",
       "4          1  Tuesday       July  "
      ]
     },
     "execution_count": 44,
     "metadata": {},
     "output_type": "execute_result"
    }
   ],
   "source": [
    "df.head()"
   ]
  },
  {
   "cell_type": "markdown",
   "metadata": {},
   "source": [
    "**Observation**\n",
    "New features were extracted from the time column. - giving us the ability to extract more insights from the data. "
   ]
  },
  {
   "cell_type": "markdown",
   "metadata": {},
   "source": [
    "## Univariate + Bivariate Analysis\n",
    "\n",
    "The biavaiarta analaysis seeks to help us answere the following questions:\n",
    "\n",
    "* What is the distribution of conversion across the 5 Channels ?\n",
    "* Which chanel gives us more conversion ?\n",
    "* Which Months give is peek conversations ?\n",
    "* Is their an underlying trend on each channel ?"
   ]
  },
  {
   "cell_type": "code",
   "execution_count": 45,
   "metadata": {},
   "outputs": [
    {
     "data": {
      "text/plain": [
       "array(['impression', 'conversion'], dtype=object)"
      ]
     },
     "execution_count": 45,
     "metadata": {},
     "output_type": "execute_result"
    }
   ],
   "source": [
    "df['interaction'].unique()"
   ]
  },
  {
   "cell_type": "markdown",
   "metadata": {},
   "source": [
    "**What is the distribution of conversion across the 5 Channels?**"
   ]
  },
  {
   "cell_type": "code",
   "execution_count": 46,
   "metadata": {},
   "outputs": [
    {
     "data": {
      "text/plain": [
       "<seaborn.axisgrid.FacetGrid at 0x7f8f1e87c670>"
      ]
     },
     "execution_count": 46,
     "metadata": {},
     "output_type": "execute_result"
    },
    {
     "data": {
      "image/png": "[encoded data removed]",
      "text/plain": [
       "<Figure size 468.5x360 with 1 Axes>"
      ]
     },
     "metadata": {
      "needs_background": "light"
     },
     "output_type": "display_data"
    }
   ],
   "source": [
    "sns.catplot(data=df, x='conversion', kind='count', hue='channel')"
   ]
  },
  {
   "cell_type": "code",
   "execution_count": 47,
   "metadata": {},
   "outputs": [
    {
     "data": {
      "text/plain": [
       "<seaborn.axisgrid.FacetGrid at 0x7f8f20666520>"
      ]
     },
     "execution_count": 47,
     "metadata": {},
     "output_type": "execute_result"
    },
    {
     "data": {
      "image/png": "[encoded data removed]",
      "text/plain": [
       "<Figure size 422.5x360 with 1 Axes>"
      ]
     },
     "metadata": {
      "needs_background": "light"
     },
     "output_type": "display_data"
    }
   ],
   "source": [
    "sns.catplot(data=df, hue='conversion', kind='count', y='channel')"
   ]
  },
  {
   "cell_type": "code",
   "execution_count": 48,
   "metadata": {},
   "outputs": [
    {
     "data": {
      "image/png": "[encoded data removed]",
      "text/plain": [
       "<Figure size 432x288 with 1 Axes>"
      ]
     },
     "metadata": {
      "needs_background": "light"
     },
     "output_type": "display_data"
    }
   ],
   "source": [
    "sns.countplot(data=df, hue='interaction', y='channel');"
   ]
  },
  {
   "cell_type": "markdown",
   "metadata": {},
   "source": [
    "need to show values and compare conversion % between insta/facevbook/ paid search etc. "
   ]
  },
  {
   "cell_type": "code",
   "execution_count": 49,
   "metadata": {},
   "outputs": [
    {
     "ename": "AttributeError",
     "evalue": "'AxesSubplot' object has no attribute 'bar_label'",
     "output_type": "error",
     "traceback": [
      "\u001b[0;31m---------------------------------------------------------------------------\u001b[0m",
      "\u001b[0;31mAttributeError\u001b[0m                            Traceback (most recent call last)",
      "\u001b[0;32m/var/folders/8c/x24h_w8n7hb83_lmdv9v2zdm0000gn/T/ipykernel_5545/754717570.py\u001b[0m in \u001b[0;36m<module>\u001b[0;34m\u001b[0m\n\u001b[1;32m      5\u001b[0m \u001b[0;31m#ax.bar_label(ax.containers[0],size = 13)\u001b[0m\u001b[0;34m\u001b[0m\u001b[0;34m\u001b[0m\u001b[0;34m\u001b[0m\u001b[0m\n\u001b[1;32m      6\u001b[0m \u001b[0;32mfor\u001b[0m \u001b[0mi\u001b[0m \u001b[0;32min\u001b[0m \u001b[0max\u001b[0m\u001b[0;34m.\u001b[0m\u001b[0mcontainers\u001b[0m\u001b[0;34m:\u001b[0m\u001b[0;34m\u001b[0m\u001b[0;34m\u001b[0m\u001b[0m\n\u001b[0;32m----> 7\u001b[0;31m     \u001b[0max\u001b[0m\u001b[0;34m.\u001b[0m\u001b[0mbar_label\u001b[0m\u001b[0;34m(\u001b[0m\u001b[0mi\u001b[0m\u001b[0;34m,\u001b[0m\u001b[0;34m)\u001b[0m\u001b[0;34m\u001b[0m\u001b[0;34m\u001b[0m\u001b[0m\n\u001b[0m\u001b[1;32m      8\u001b[0m \u001b[0msns\u001b[0m\u001b[0;34m.\u001b[0m\u001b[0mdespine\u001b[0m\u001b[0;34m(\u001b[0m\u001b[0mleft\u001b[0m \u001b[0;34m=\u001b[0m \u001b[0;32mTrue\u001b[0m\u001b[0;34m,\u001b[0m\u001b[0mbottom\u001b[0m\u001b[0;34m=\u001b[0m\u001b[0;32mTrue\u001b[0m\u001b[0;34m)\u001b[0m\u001b[0;34m\u001b[0m\u001b[0;34m\u001b[0m\u001b[0m\n\u001b[1;32m      9\u001b[0m \u001b[0max\u001b[0m\u001b[0;34m.\u001b[0m\u001b[0mset\u001b[0m\u001b[0;34m(\u001b[0m\u001b[0mxlabel\u001b[0m\u001b[0;34m=\u001b[0m\u001b[0;32mNone\u001b[0m\u001b[0;34m)\u001b[0m\u001b[0;34m\u001b[0m\u001b[0;34m\u001b[0m\u001b[0m\n",
      "\u001b[0;31mAttributeError\u001b[0m: 'AxesSubplot' object has no attribute 'bar_label'"
     ]
    },
    {
     "data": {
      "image/png": "[encoded data removed]",
      "text/plain": [
       "<Figure size 576x360 with 1 Axes>"
      ]
     },
     "metadata": {
      "needs_background": "light"
     },
     "output_type": "display_data"
    }
   ],
   "source": [
    "plt.figure(figsize = (8,5))\n",
    "# ax=sns.countplot(y='Origin',x='Quantity',data= n_data,orient='h',\n",
    "#            estimator =sum )\n",
    "ax= sns.countplot(data=df, hue='interaction', x='channel')\n",
    "#ax.bar_label(ax.containers[0],size = 13)\n",
    "for i in ax.containers:\n",
    "    ax.bar_label(i,)\n",
    "sns.despine(left = True,bottom=True)\n",
    "ax.set(xlabel=None)\n",
    "ax.set(ylabel=None)\n",
    "#ax.set(xticklabels=[])\n",
    "ax.set(yticks=[])\n",
    "#plt.ylabel('Origin',fontsize=30)\n",
    "plt.tick_params(axis='both', which='major', labelsize=10)\n",
    "plt.show()"
   ]
  },
  {
   "cell_type": "markdown",
   "metadata": {},
   "source": [
    "#### Which chanel gives us more conversion ?"
   ]
  },
  {
   "cell_type": "code",
   "execution_count": null,
   "metadata": {},
   "outputs": [
    {
     "data": {
      "text/plain": [
       "Index(['cookie', 'time', 'interaction', 'conversion', 'conversion_value',\n",
       "       'channel', 'hour', 'mins', 'day', 'month', 'year', 'dayofweek',\n",
       "       'day_name', 'month_name'],\n",
       "      dtype='object')"
      ]
     },
     "execution_count": 48,
     "metadata": {},
     "output_type": "execute_result"
    }
   ],
   "source": [
    "df.columns"
   ]
  },
  {
   "cell_type": "code",
   "execution_count": 52,
   "metadata": {},
   "outputs": [],
   "source": [
    "channel_inter_df = df[df['interaction'] == 'conversion']\\\n",
    " .groupby('channel')[['interaction']].count()\\\n",
    " .sort_values(by='interaction', ascending=False)\\\n",
    " .reset_index()\\\n",
    " .rename(columns={'interaction':'count'})"
   ]
  },
  {
   "cell_type": "code",
   "execution_count": 53,
   "metadata": {},
   "outputs": [
    {
     "data": {
      "text/html": [
       "<div>\n",
       "<style scoped>\n",
       "    .dataframe tbody tr th:only-of-type {\n",
       "        vertical-align: middle;\n",
       "    }\n",
       "\n",
       "    .dataframe tbody tr th {\n",
       "        vertical-align: top;\n",
       "    }\n",
       "\n",
       "    .dataframe thead th {\n",
       "        text-align: right;\n",
       "    }\n",
       "</style>\n",
       "<table border=\"1\" class=\"dataframe\">\n",
       "  <thead>\n",
       "    <tr style=\"text-align: right;\">\n",
       "      <th></th>\n",
       "      <th>channel</th>\n",
       "      <th>count</th>\n",
       "    </tr>\n",
       "  </thead>\n",
       "  <tbody>\n",
       "    <tr>\n",
       "      <th>0</th>\n",
       "      <td>Facebook</td>\n",
       "      <td>5301</td>\n",
       "    </tr>\n",
       "    <tr>\n",
       "      <th>1</th>\n",
       "      <td>Paid Search</td>\n",
       "      <td>4547</td>\n",
       "    </tr>\n",
       "    <tr>\n",
       "      <th>2</th>\n",
       "      <td>Online Video</td>\n",
       "      <td>3408</td>\n",
       "    </tr>\n",
       "    <tr>\n",
       "      <th>3</th>\n",
       "      <td>Instagram</td>\n",
       "      <td>2244</td>\n",
       "    </tr>\n",
       "    <tr>\n",
       "      <th>4</th>\n",
       "      <td>Online Display</td>\n",
       "      <td>2139</td>\n",
       "    </tr>\n",
       "  </tbody>\n",
       "</table>\n",
       "</div>"
      ],
      "text/plain": [
       "          channel  count\n",
       "0        Facebook   5301\n",
       "1     Paid Search   4547\n",
       "2    Online Video   3408\n",
       "3       Instagram   2244\n",
       "4  Online Display   2139"
      ]
     },
     "execution_count": 53,
     "metadata": {},
     "output_type": "execute_result"
    }
   ],
   "source": [
    "channel_inter_df"
   ]
  },
  {
   "cell_type": "code",
   "execution_count": 54,
   "metadata": {},
   "outputs": [
    {
     "ename": "AttributeError",
     "evalue": "'AxesSubplot' object has no attribute 'bar_label'",
     "output_type": "error",
     "traceback": [
      "\u001b[0;31m---------------------------------------------------------------------------\u001b[0m",
      "\u001b[0;31mAttributeError\u001b[0m                            Traceback (most recent call last)",
      "\u001b[0;32m/var/folders/8c/x24h_w8n7hb83_lmdv9v2zdm0000gn/T/ipykernel_5545/2260250405.py\u001b[0m in \u001b[0;36m<module>\u001b[0;34m\u001b[0m\n\u001b[1;32m      5\u001b[0m \u001b[0;31m#ax.bar_label(ax.containers[0],size = 13)\u001b[0m\u001b[0;34m\u001b[0m\u001b[0;34m\u001b[0m\u001b[0;34m\u001b[0m\u001b[0m\n\u001b[1;32m      6\u001b[0m \u001b[0;32mfor\u001b[0m \u001b[0mi\u001b[0m \u001b[0;32min\u001b[0m \u001b[0max\u001b[0m\u001b[0;34m.\u001b[0m\u001b[0mcontainers\u001b[0m\u001b[0;34m:\u001b[0m\u001b[0;34m\u001b[0m\u001b[0;34m\u001b[0m\u001b[0m\n\u001b[0;32m----> 7\u001b[0;31m     \u001b[0max\u001b[0m\u001b[0;34m.\u001b[0m\u001b[0mbar_label\u001b[0m\u001b[0;34m(\u001b[0m\u001b[0mi\u001b[0m\u001b[0;34m,\u001b[0m\u001b[0;34m)\u001b[0m\u001b[0;34m\u001b[0m\u001b[0;34m\u001b[0m\u001b[0m\n\u001b[0m\u001b[1;32m      8\u001b[0m \u001b[0msns\u001b[0m\u001b[0;34m.\u001b[0m\u001b[0mdespine\u001b[0m\u001b[0;34m(\u001b[0m\u001b[0mleft\u001b[0m \u001b[0;34m=\u001b[0m \u001b[0;32mTrue\u001b[0m\u001b[0;34m,\u001b[0m\u001b[0mbottom\u001b[0m\u001b[0;34m=\u001b[0m\u001b[0;32mTrue\u001b[0m\u001b[0;34m)\u001b[0m\u001b[0;34m\u001b[0m\u001b[0;34m\u001b[0m\u001b[0m\n\u001b[1;32m      9\u001b[0m \u001b[0max\u001b[0m\u001b[0;34m.\u001b[0m\u001b[0mset\u001b[0m\u001b[0;34m(\u001b[0m\u001b[0mxlabel\u001b[0m\u001b[0;34m=\u001b[0m\u001b[0;32mNone\u001b[0m\u001b[0;34m)\u001b[0m\u001b[0;34m\u001b[0m\u001b[0;34m\u001b[0m\u001b[0m\n",
      "\u001b[0;31mAttributeError\u001b[0m: 'AxesSubplot' object has no attribute 'bar_label'"
     ]
    },
    {
     "data": {
      "image/png": "[encoded data removed]",
      "text/plain": [
       "<Figure size 504x288 with 1 Axes>"
      ]
     },
     "metadata": {
      "needs_background": "light"
     },
     "output_type": "display_data"
    }
   ],
   "source": [
    "plt.figure(figsize = (7,4))\n",
    "# ax=sns.countplot(y='Origin',x='Quantity',data= n_data,orient='h',\n",
    "#            estimator =sum )\n",
    "ax= sns.barplot(data=channel_inter_df, x='channel',y='count',color='teal',alpha=0.5)\n",
    "#ax.bar_label(ax.containers[0],size = 13)\n",
    "for i in ax.containers:\n",
    "    ax.bar_label(i,)\n",
    "sns.despine(left = True,bottom=True)\n",
    "ax.set(xlabel=None)\n",
    "ax.set(ylabel=None)\n",
    "#ax.set(xticklabels=[])\n",
    "ax.set(yticks=[])\n",
    "#plt.ylabel('Origin',fontsize=30)\n",
    "plt.tick_params(axis='both', which='major', labelsize=10)\n",
    "plt.show()"
   ]
  },
  {
   "cell_type": "markdown",
   "metadata": {},
   "source": [
    "#### Which Months give is peek conversations ?\n"
   ]
  },
  {
   "cell_type": "code",
   "execution_count": null,
   "metadata": {},
   "outputs": [
    {
     "data": {
      "text/html": [
       "<div>\n",
       "<style scoped>\n",
       "    .dataframe tbody tr th:only-of-type {\n",
       "        vertical-align: middle;\n",
       "    }\n",
       "\n",
       "    .dataframe tbody tr th {\n",
       "        vertical-align: top;\n",
       "    }\n",
       "\n",
       "    .dataframe thead th {\n",
       "        text-align: right;\n",
       "    }\n",
       "</style>\n",
       "<table border=\"1\" class=\"dataframe\">\n",
       "  <thead>\n",
       "    <tr style=\"text-align: right;\">\n",
       "      <th></th>\n",
       "      <th>cookie</th>\n",
       "      <th>time</th>\n",
       "      <th>interaction</th>\n",
       "      <th>conversion</th>\n",
       "      <th>conversion_value</th>\n",
       "      <th>channel</th>\n",
       "      <th>hour</th>\n",
       "      <th>mins</th>\n",
       "      <th>day</th>\n",
       "      <th>month</th>\n",
       "      <th>year</th>\n",
       "      <th>dayofweek</th>\n",
       "      <th>day_name</th>\n",
       "      <th>month_name</th>\n",
       "    </tr>\n",
       "  </thead>\n",
       "  <tbody>\n",
       "    <tr>\n",
       "      <th>0</th>\n",
       "      <td>00000FkCnDfDDf0iC97iC703B</td>\n",
       "      <td>2018-07-03 13:02:11+00:00</td>\n",
       "      <td>impression</td>\n",
       "      <td>0</td>\n",
       "      <td>0.0</td>\n",
       "      <td>Instagram</td>\n",
       "      <td>13</td>\n",
       "      <td>2</td>\n",
       "      <td>3</td>\n",
       "      <td>7</td>\n",
       "      <td>2018</td>\n",
       "      <td>1</td>\n",
       "      <td>Tuesday</td>\n",
       "      <td>July</td>\n",
       "    </tr>\n",
       "    <tr>\n",
       "      <th>1</th>\n",
       "      <td>00000FkCnDfDDf0iC97iC703B</td>\n",
       "      <td>2018-07-17 19:15:07+00:00</td>\n",
       "      <td>impression</td>\n",
       "      <td>0</td>\n",
       "      <td>0.0</td>\n",
       "      <td>Online Display</td>\n",
       "      <td>19</td>\n",
       "      <td>15</td>\n",
       "      <td>17</td>\n",
       "      <td>7</td>\n",
       "      <td>2018</td>\n",
       "      <td>1</td>\n",
       "      <td>Tuesday</td>\n",
       "      <td>July</td>\n",
       "    </tr>\n",
       "    <tr>\n",
       "      <th>2</th>\n",
       "      <td>00000FkCnDfDDf0iC97iC703B</td>\n",
       "      <td>2018-07-24 15:51:46+00:00</td>\n",
       "      <td>impression</td>\n",
       "      <td>0</td>\n",
       "      <td>0.0</td>\n",
       "      <td>Online Display</td>\n",
       "      <td>15</td>\n",
       "      <td>51</td>\n",
       "      <td>24</td>\n",
       "      <td>7</td>\n",
       "      <td>2018</td>\n",
       "      <td>1</td>\n",
       "      <td>Tuesday</td>\n",
       "      <td>July</td>\n",
       "    </tr>\n",
       "    <tr>\n",
       "      <th>3</th>\n",
       "      <td>00000FkCnDfDDf0iC97iC703B</td>\n",
       "      <td>2018-07-29 07:44:51+00:00</td>\n",
       "      <td>impression</td>\n",
       "      <td>0</td>\n",
       "      <td>0.0</td>\n",
       "      <td>Online Display</td>\n",
       "      <td>7</td>\n",
       "      <td>44</td>\n",
       "      <td>29</td>\n",
       "      <td>7</td>\n",
       "      <td>2018</td>\n",
       "      <td>6</td>\n",
       "      <td>Sunday</td>\n",
       "      <td>July</td>\n",
       "    </tr>\n",
       "    <tr>\n",
       "      <th>4</th>\n",
       "      <td>0000nACkD9nFkBBDECD3ki00E</td>\n",
       "      <td>2018-07-03 09:44:57+00:00</td>\n",
       "      <td>impression</td>\n",
       "      <td>0</td>\n",
       "      <td>0.0</td>\n",
       "      <td>Paid Search</td>\n",
       "      <td>9</td>\n",
       "      <td>44</td>\n",
       "      <td>3</td>\n",
       "      <td>7</td>\n",
       "      <td>2018</td>\n",
       "      <td>1</td>\n",
       "      <td>Tuesday</td>\n",
       "      <td>July</td>\n",
       "    </tr>\n",
       "  </tbody>\n",
       "</table>\n",
       "</div>"
      ],
      "text/plain": [
       "                      cookie                      time interaction  \\\n",
       "0  00000FkCnDfDDf0iC97iC703B 2018-07-03 13:02:11+00:00  impression   \n",
       "1  00000FkCnDfDDf0iC97iC703B 2018-07-17 19:15:07+00:00  impression   \n",
       "2  00000FkCnDfDDf0iC97iC703B 2018-07-24 15:51:46+00:00  impression   \n",
       "3  00000FkCnDfDDf0iC97iC703B 2018-07-29 07:44:51+00:00  impression   \n",
       "4  0000nACkD9nFkBBDECD3ki00E 2018-07-03 09:44:57+00:00  impression   \n",
       "\n",
       "   conversion  conversion_value         channel  hour  mins  day  month  year  \\\n",
       "0           0               0.0       Instagram    13     2    3      7  2018   \n",
       "1           0               0.0  Online Display    19    15   17      7  2018   \n",
       "2           0               0.0  Online Display    15    51   24      7  2018   \n",
       "3           0               0.0  Online Display     7    44   29      7  2018   \n",
       "4           0               0.0     Paid Search     9    44    3      7  2018   \n",
       "\n",
       "   dayofweek day_name month_name  \n",
       "0          1  Tuesday       July  \n",
       "1          1  Tuesday       July  \n",
       "2          1  Tuesday       July  \n",
       "3          6   Sunday       July  \n",
       "4          1  Tuesday       July  "
      ]
     },
     "execution_count": 64,
     "metadata": {},
     "output_type": "execute_result"
    }
   ],
   "source": [
    "df.head()"
   ]
  },
  {
   "cell_type": "code",
   "execution_count": null,
   "metadata": {},
   "outputs": [],
   "source": [
    "day_inter_df = df[df['conversion'] == 1]\\\n",
    " .groupby(['dayofweek','day_name'])[['interaction']].count()\\\n",
    " .reset_index()\\\n",
    " .rename(columns={'interaction':'count'})"
   ]
  },
  {
   "cell_type": "code",
   "execution_count": null,
   "metadata": {},
   "outputs": [
    {
     "data": {
      "text/html": [
       "<div>\n",
       "<style scoped>\n",
       "    .dataframe tbody tr th:only-of-type {\n",
       "        vertical-align: middle;\n",
       "    }\n",
       "\n",
       "    .dataframe tbody tr th {\n",
       "        vertical-align: top;\n",
       "    }\n",
       "\n",
       "    .dataframe thead th {\n",
       "        text-align: right;\n",
       "    }\n",
       "</style>\n",
       "<table border=\"1\" class=\"dataframe\">\n",
       "  <thead>\n",
       "    <tr style=\"text-align: right;\">\n",
       "      <th></th>\n",
       "      <th>dayofweek</th>\n",
       "      <th>day_name</th>\n",
       "      <th>count</th>\n",
       "    </tr>\n",
       "  </thead>\n",
       "  <tbody>\n",
       "    <tr>\n",
       "      <th>0</th>\n",
       "      <td>0</td>\n",
       "      <td>Monday</td>\n",
       "      <td>2820</td>\n",
       "    </tr>\n",
       "    <tr>\n",
       "      <th>1</th>\n",
       "      <td>1</td>\n",
       "      <td>Tuesday</td>\n",
       "      <td>2575</td>\n",
       "    </tr>\n",
       "    <tr>\n",
       "      <th>2</th>\n",
       "      <td>2</td>\n",
       "      <td>Wednesday</td>\n",
       "      <td>2645</td>\n",
       "    </tr>\n",
       "    <tr>\n",
       "      <th>3</th>\n",
       "      <td>3</td>\n",
       "      <td>Thursday</td>\n",
       "      <td>2397</td>\n",
       "    </tr>\n",
       "    <tr>\n",
       "      <th>4</th>\n",
       "      <td>4</td>\n",
       "      <td>Friday</td>\n",
       "      <td>2017</td>\n",
       "    </tr>\n",
       "    <tr>\n",
       "      <th>5</th>\n",
       "      <td>5</td>\n",
       "      <td>Saturday</td>\n",
       "      <td>2339</td>\n",
       "    </tr>\n",
       "    <tr>\n",
       "      <th>6</th>\n",
       "      <td>6</td>\n",
       "      <td>Sunday</td>\n",
       "      <td>2846</td>\n",
       "    </tr>\n",
       "  </tbody>\n",
       "</table>\n",
       "</div>"
      ],
      "text/plain": [
       "   dayofweek   day_name  count\n",
       "0          0     Monday   2820\n",
       "1          1    Tuesday   2575\n",
       "2          2  Wednesday   2645\n",
       "3          3   Thursday   2397\n",
       "4          4     Friday   2017\n",
       "5          5   Saturday   2339\n",
       "6          6     Sunday   2846"
      ]
     },
     "execution_count": 84,
     "metadata": {},
     "output_type": "execute_result"
    }
   ],
   "source": [
    "day_inter_df"
   ]
  },
  {
   "cell_type": "code",
   "execution_count": null,
   "metadata": {},
   "outputs": [
    {
     "data": {
      "image/png": "[encoded data removed]",
      "text/plain": [
       "<Figure size 700x400 with 1 Axes>"
      ]
     },
     "metadata": {},
     "output_type": "display_data"
    }
   ],
   "source": [
    "plt.figure(figsize = (7,4))\n",
    "# ax=sns.countplot(y='Origin',x='Quantity',data= n_data,orient='h',\n",
    "#            estimator =sum )\n",
    "ax= sns.barplot(data=day_inter_df, x='day_name',y='count',color='teal',alpha=0.5)\n",
    "#ax.bar_label(ax.containers[0],size = 13)\n",
    "for i in ax.containers:\n",
    "    ax.bar_label(i,)\n",
    "sns.despine(left = True,bottom=True)\n",
    "ax.set(xlabel=None)\n",
    "ax.set(ylabel=None)\n",
    "#ax.set(xticklabels=[])\n",
    "ax.set(yticks=[])\n",
    "#plt.ylabel('Origin',fontsize=30)\n",
    "plt.tick_params(axis='both', which='major', labelsize=10)\n",
    "plt.show()"
   ]
  },
  {
   "cell_type": "code",
   "execution_count": null,
   "metadata": {},
   "outputs": [],
   "source": []
  },
  {
   "cell_type": "code",
   "execution_count": null,
   "metadata": {},
   "outputs": [],
   "source": [
    "hour_inter_df = df[df['conversion'] == 1]\\\n",
    " .groupby(['hour'])[['interaction']].count()\\\n",
    " .reset_index()\\\n",
    " .rename(columns={'interaction':'count'})"
   ]
  },
  {
   "cell_type": "code",
   "execution_count": null,
   "metadata": {},
   "outputs": [
    {
     "data": {
      "text/html": [
       "<div>\n",
       "<style scoped>\n",
       "    .dataframe tbody tr th:only-of-type {\n",
       "        vertical-align: middle;\n",
       "    }\n",
       "\n",
       "    .dataframe tbody tr th {\n",
       "        vertical-align: top;\n",
       "    }\n",
       "\n",
       "    .dataframe thead th {\n",
       "        text-align: right;\n",
       "    }\n",
       "</style>\n",
       "<table border=\"1\" class=\"dataframe\">\n",
       "  <thead>\n",
       "    <tr style=\"text-align: right;\">\n",
       "      <th></th>\n",
       "      <th>hour</th>\n",
       "      <th>count</th>\n",
       "    </tr>\n",
       "  </thead>\n",
       "  <tbody>\n",
       "    <tr>\n",
       "      <th>0</th>\n",
       "      <td>0</td>\n",
       "      <td>205</td>\n",
       "    </tr>\n",
       "    <tr>\n",
       "      <th>1</th>\n",
       "      <td>1</td>\n",
       "      <td>86</td>\n",
       "    </tr>\n",
       "    <tr>\n",
       "      <th>2</th>\n",
       "      <td>2</td>\n",
       "      <td>45</td>\n",
       "    </tr>\n",
       "    <tr>\n",
       "      <th>3</th>\n",
       "      <td>3</td>\n",
       "      <td>30</td>\n",
       "    </tr>\n",
       "    <tr>\n",
       "      <th>4</th>\n",
       "      <td>4</td>\n",
       "      <td>39</td>\n",
       "    </tr>\n",
       "    <tr>\n",
       "      <th>5</th>\n",
       "      <td>5</td>\n",
       "      <td>149</td>\n",
       "    </tr>\n",
       "    <tr>\n",
       "      <th>6</th>\n",
       "      <td>6</td>\n",
       "      <td>293</td>\n",
       "    </tr>\n",
       "    <tr>\n",
       "      <th>7</th>\n",
       "      <td>7</td>\n",
       "      <td>662</td>\n",
       "    </tr>\n",
       "    <tr>\n",
       "      <th>8</th>\n",
       "      <td>8</td>\n",
       "      <td>861</td>\n",
       "    </tr>\n",
       "    <tr>\n",
       "      <th>9</th>\n",
       "      <td>9</td>\n",
       "      <td>1097</td>\n",
       "    </tr>\n",
       "    <tr>\n",
       "      <th>10</th>\n",
       "      <td>10</td>\n",
       "      <td>1434</td>\n",
       "    </tr>\n",
       "    <tr>\n",
       "      <th>11</th>\n",
       "      <td>11</td>\n",
       "      <td>1413</td>\n",
       "    </tr>\n",
       "    <tr>\n",
       "      <th>12</th>\n",
       "      <td>12</td>\n",
       "      <td>1449</td>\n",
       "    </tr>\n",
       "    <tr>\n",
       "      <th>13</th>\n",
       "      <td>13</td>\n",
       "      <td>1234</td>\n",
       "    </tr>\n",
       "    <tr>\n",
       "      <th>14</th>\n",
       "      <td>14</td>\n",
       "      <td>1170</td>\n",
       "    </tr>\n",
       "    <tr>\n",
       "      <th>15</th>\n",
       "      <td>15</td>\n",
       "      <td>1107</td>\n",
       "    </tr>\n",
       "    <tr>\n",
       "      <th>16</th>\n",
       "      <td>16</td>\n",
       "      <td>891</td>\n",
       "    </tr>\n",
       "    <tr>\n",
       "      <th>17</th>\n",
       "      <td>17</td>\n",
       "      <td>987</td>\n",
       "    </tr>\n",
       "    <tr>\n",
       "      <th>18</th>\n",
       "      <td>18</td>\n",
       "      <td>913</td>\n",
       "    </tr>\n",
       "    <tr>\n",
       "      <th>19</th>\n",
       "      <td>19</td>\n",
       "      <td>868</td>\n",
       "    </tr>\n",
       "    <tr>\n",
       "      <th>20</th>\n",
       "      <td>20</td>\n",
       "      <td>816</td>\n",
       "    </tr>\n",
       "    <tr>\n",
       "      <th>21</th>\n",
       "      <td>21</td>\n",
       "      <td>809</td>\n",
       "    </tr>\n",
       "    <tr>\n",
       "      <th>22</th>\n",
       "      <td>22</td>\n",
       "      <td>626</td>\n",
       "    </tr>\n",
       "    <tr>\n",
       "      <th>23</th>\n",
       "      <td>23</td>\n",
       "      <td>455</td>\n",
       "    </tr>\n",
       "  </tbody>\n",
       "</table>\n",
       "</div>"
      ],
      "text/plain": [
       "    hour  count\n",
       "0      0    205\n",
       "1      1     86\n",
       "2      2     45\n",
       "3      3     30\n",
       "4      4     39\n",
       "5      5    149\n",
       "6      6    293\n",
       "7      7    662\n",
       "8      8    861\n",
       "9      9   1097\n",
       "10    10   1434\n",
       "11    11   1413\n",
       "12    12   1449\n",
       "13    13   1234\n",
       "14    14   1170\n",
       "15    15   1107\n",
       "16    16    891\n",
       "17    17    987\n",
       "18    18    913\n",
       "19    19    868\n",
       "20    20    816\n",
       "21    21    809\n",
       "22    22    626\n",
       "23    23    455"
      ]
     },
     "execution_count": 90,
     "metadata": {},
     "output_type": "execute_result"
    }
   ],
   "source": [
    "hour_inter_df "
   ]
  },
  {
   "cell_type": "code",
   "execution_count": null,
   "metadata": {},
   "outputs": [
    {
     "data": {
      "image/png": "[encoded data removed]",
      "text/plain": [
       "<Figure size 700x400 with 1 Axes>"
      ]
     },
     "metadata": {},
     "output_type": "display_data"
    }
   ],
   "source": [
    "plt.figure(figsize = (7,4))\n",
    "# ax=sns.countplot(y='Origin',x='Quantity',data= n_data,orient='h',\n",
    "#            estimator =sum )\n",
    "ax= sns.barplot(data=hour_inter_df, x='hour',y='count',color='teal',alpha=0.5)\n",
    "#ax.bar_label(ax.containers[0],size = 13)\n",
    "for i in ax.containers:\n",
    "    ax.bar_label(i,)\n",
    "sns.despine(left = True,bottom=True)\n",
    "ax.set(xlabel=None)\n",
    "ax.set(ylabel=None)\n",
    "#ax.set(xticklabels=[])\n",
    "ax.set(yticks=[])\n",
    "#plt.ylabel('Origin',fontsize=30)\n",
    "plt.tick_params(axis='both', which='major', labelsize=10)\n",
    "plt.show()"
   ]
  },
  {
   "cell_type": "code",
   "execution_count": null,
   "metadata": {},
   "outputs": [],
   "source": []
  },
  {
   "cell_type": "code",
   "execution_count": null,
   "metadata": {},
   "outputs": [],
   "source": [
    "plt.figure(figsize = (7,4))\n",
    "# ax=sns.countplot(y='Origin',x='Quantity',data= n_data,orient='h',\n",
    "#            estimator =sum )\n",
    "ax= sns.barplot(data=day_inter_df, x='day_name',y='count',color='teal',alpha=0.5)\n",
    "#ax.bar_label(ax.containers[0],size = 13)\n",
    "for i in ax.containers:\n",
    "    ax.bar_label(i,)\n",
    "sns.despine(left = True,bottom=True)\n",
    "ax.set(xlabel=None)\n",
    "ax.set(ylabel=None)\n",
    "#ax.set(xticklabels=[])\n",
    "ax.set(yticks=[])\n",
    "#plt.ylabel('Origin',fontsize=30)\n",
    "plt.tick_params(axis='both', which='major', labelsize=10)\n",
    "plt.show()"
   ]
  },
  {
   "cell_type": "code",
   "execution_count": null,
   "metadata": {},
   "outputs": [],
   "source": []
  },
  {
   "cell_type": "code",
   "execution_count": null,
   "metadata": {},
   "outputs": [],
   "source": []
  },
  {
   "cell_type": "code",
   "execution_count": null,
   "metadata": {},
   "outputs": [],
   "source": []
  },
  {
   "cell_type": "code",
   "execution_count": null,
   "metadata": {},
   "outputs": [],
   "source": []
  },
  {
   "cell_type": "code",
   "execution_count": null,
   "metadata": {},
   "outputs": [
    {
     "data": {
      "text/html": [
       "<div>\n",
       "<style scoped>\n",
       "    .dataframe tbody tr th:only-of-type {\n",
       "        vertical-align: middle;\n",
       "    }\n",
       "\n",
       "    .dataframe tbody tr th {\n",
       "        vertical-align: top;\n",
       "    }\n",
       "\n",
       "    .dataframe thead th {\n",
       "        text-align: right;\n",
       "    }\n",
       "</style>\n",
       "<table border=\"1\" class=\"dataframe\">\n",
       "  <thead>\n",
       "    <tr style=\"text-align: right;\">\n",
       "      <th></th>\n",
       "      <th>day_name</th>\n",
       "      <th>count</th>\n",
       "    </tr>\n",
       "  </thead>\n",
       "  <tbody>\n",
       "    <tr>\n",
       "      <th>0</th>\n",
       "      <td>Friday</td>\n",
       "      <td>2017</td>\n",
       "    </tr>\n",
       "    <tr>\n",
       "      <th>1</th>\n",
       "      <td>Monday</td>\n",
       "      <td>2820</td>\n",
       "    </tr>\n",
       "    <tr>\n",
       "      <th>2</th>\n",
       "      <td>Saturday</td>\n",
       "      <td>2339</td>\n",
       "    </tr>\n",
       "    <tr>\n",
       "      <th>3</th>\n",
       "      <td>Sunday</td>\n",
       "      <td>2846</td>\n",
       "    </tr>\n",
       "    <tr>\n",
       "      <th>4</th>\n",
       "      <td>Thursday</td>\n",
       "      <td>2397</td>\n",
       "    </tr>\n",
       "    <tr>\n",
       "      <th>5</th>\n",
       "      <td>Tuesday</td>\n",
       "      <td>2575</td>\n",
       "    </tr>\n",
       "    <tr>\n",
       "      <th>6</th>\n",
       "      <td>Wednesday</td>\n",
       "      <td>2645</td>\n",
       "    </tr>\n",
       "  </tbody>\n",
       "</table>\n",
       "</div>"
      ],
      "text/plain": [
       "    day_name  count\n",
       "0     Friday   2017\n",
       "1     Monday   2820\n",
       "2   Saturday   2339\n",
       "3     Sunday   2846\n",
       "4   Thursday   2397\n",
       "5    Tuesday   2575\n",
       "6  Wednesday   2645"
      ]
     },
     "execution_count": 79,
     "metadata": {},
     "output_type": "execute_result"
    }
   ],
   "source": [
    "day_inter_df"
   ]
  },
  {
   "cell_type": "code",
   "execution_count": null,
   "metadata": {},
   "outputs": [
    {
     "data": {
      "text/plain": [
       "array(['July'], dtype=object)"
      ]
     },
     "execution_count": 74,
     "metadata": {},
     "output_type": "execute_result"
    }
   ],
   "source": [
    "df['month_name'].unique()"
   ]
  },
  {
   "cell_type": "markdown",
   "metadata": {},
   "source": [
    "#### Is their an underlying trend on each channel ?"
   ]
  },
  {
   "cell_type": "code",
   "execution_count": null,
   "metadata": {},
   "outputs": [],
   "source": []
  },
  {
   "cell_type": "code",
   "execution_count": null,
   "metadata": {},
   "outputs": [],
   "source": [
    "conversion_trend_df = df[df['conversion'] == 1]\\\n",
    ".groupby(['hour','channel'])[['interaction']].count()\\\n",
    ".reset_index()\\\n",
    ".rename(columns={'interaction':'count'})"
   ]
  },
  {
   "cell_type": "code",
   "execution_count": null,
   "metadata": {},
   "outputs": [
    {
     "data": {
      "text/html": [
       "<div>\n",
       "<style scoped>\n",
       "    .dataframe tbody tr th:only-of-type {\n",
       "        vertical-align: middle;\n",
       "    }\n",
       "\n",
       "    .dataframe tbody tr th {\n",
       "        vertical-align: top;\n",
       "    }\n",
       "\n",
       "    .dataframe thead th {\n",
       "        text-align: right;\n",
       "    }\n",
       "</style>\n",
       "<table border=\"1\" class=\"dataframe\">\n",
       "  <thead>\n",
       "    <tr style=\"text-align: right;\">\n",
       "      <th></th>\n",
       "      <th>hour</th>\n",
       "      <th>channel</th>\n",
       "      <th>count</th>\n",
       "    </tr>\n",
       "  </thead>\n",
       "  <tbody>\n",
       "    <tr>\n",
       "      <th>0</th>\n",
       "      <td>0</td>\n",
       "      <td>Facebook</td>\n",
       "      <td>78</td>\n",
       "    </tr>\n",
       "    <tr>\n",
       "      <th>1</th>\n",
       "      <td>0</td>\n",
       "      <td>Instagram</td>\n",
       "      <td>35</td>\n",
       "    </tr>\n",
       "    <tr>\n",
       "      <th>2</th>\n",
       "      <td>0</td>\n",
       "      <td>Online Display</td>\n",
       "      <td>9</td>\n",
       "    </tr>\n",
       "    <tr>\n",
       "      <th>3</th>\n",
       "      <td>0</td>\n",
       "      <td>Online Video</td>\n",
       "      <td>48</td>\n",
       "    </tr>\n",
       "    <tr>\n",
       "      <th>4</th>\n",
       "      <td>0</td>\n",
       "      <td>Paid Search</td>\n",
       "      <td>35</td>\n",
       "    </tr>\n",
       "    <tr>\n",
       "      <th>...</th>\n",
       "      <td>...</td>\n",
       "      <td>...</td>\n",
       "      <td>...</td>\n",
       "    </tr>\n",
       "    <tr>\n",
       "      <th>114</th>\n",
       "      <td>23</td>\n",
       "      <td>Facebook</td>\n",
       "      <td>146</td>\n",
       "    </tr>\n",
       "    <tr>\n",
       "      <th>115</th>\n",
       "      <td>23</td>\n",
       "      <td>Instagram</td>\n",
       "      <td>71</td>\n",
       "    </tr>\n",
       "    <tr>\n",
       "      <th>116</th>\n",
       "      <td>23</td>\n",
       "      <td>Online Display</td>\n",
       "      <td>58</td>\n",
       "    </tr>\n",
       "    <tr>\n",
       "      <th>117</th>\n",
       "      <td>23</td>\n",
       "      <td>Online Video</td>\n",
       "      <td>119</td>\n",
       "    </tr>\n",
       "    <tr>\n",
       "      <th>118</th>\n",
       "      <td>23</td>\n",
       "      <td>Paid Search</td>\n",
       "      <td>61</td>\n",
       "    </tr>\n",
       "  </tbody>\n",
       "</table>\n",
       "<p>119 rows × 3 columns</p>\n",
       "</div>"
      ],
      "text/plain": [
       "     hour         channel  count\n",
       "0       0        Facebook     78\n",
       "1       0       Instagram     35\n",
       "2       0  Online Display      9\n",
       "3       0    Online Video     48\n",
       "4       0     Paid Search     35\n",
       "..    ...             ...    ...\n",
       "114    23        Facebook    146\n",
       "115    23       Instagram     71\n",
       "116    23  Online Display     58\n",
       "117    23    Online Video    119\n",
       "118    23     Paid Search     61\n",
       "\n",
       "[119 rows x 3 columns]"
      ]
     },
     "execution_count": 104,
     "metadata": {},
     "output_type": "execute_result"
    }
   ],
   "source": [
    "conversion_trend_df"
   ]
  },
  {
   "cell_type": "code",
   "execution_count": null,
   "metadata": {},
   "outputs": [
    {
     "data": {
      "image/png": "[encoded data removed]",
      "text/plain": [
       "<Figure size 640x480 with 1 Axes>"
      ]
     },
     "metadata": {},
     "output_type": "display_data"
    }
   ],
   "source": [
    "sns.lineplot(x='hour',y='count',\n",
    "             data =conversion_trend_df,\n",
    "             errorbar=None,\n",
    "            color='red');"
   ]
  },
  {
   "cell_type": "code",
   "execution_count": null,
   "metadata": {},
   "outputs": [
    {
     "data": {
      "image/png": "[encoded data removed]",
      "text/plain": [
       "<Figure size 640x480 with 1 Axes>"
      ]
     },
     "metadata": {},
     "output_type": "display_data"
    }
   ],
   "source": [
    "sns.lineplot(x='hour',y='count',hue='channel',\n",
    "             data =conversion_trend_df,\n",
    "             errorbar=None,\n",
    "            color='red',\n",
    "            markers='*');"
   ]
  },
  {
   "cell_type": "code",
   "execution_count": null,
   "metadata": {},
   "outputs": [
    {
     "data": {
      "image/png": "[encoded data removed]",
      "text/plain": [
       "<Figure size 640x480 with 1 Axes>"
      ]
     },
     "metadata": {},
     "output_type": "display_data"
    }
   ],
   "source": [
    "\n",
    "sns.pointplot(x='hour',y='count',hue='channel',\n",
    "             data =conversion_trend_df,\n",
    "             errorbar=None,\n",
    "       \n",
    "            markers='*');"
   ]
  },
  {
   "cell_type": "code",
   "execution_count": null,
   "metadata": {},
   "outputs": [
    {
     "data": {
      "image/png": "[encoded data removed]",
      "text/plain": [
       "<Figure size 700x400 with 1 Axes>"
      ]
     },
     "metadata": {},
     "output_type": "display_data"
    }
   ],
   "source": [
    "plt.figure(figsize = (7,4))\n",
    "# ax=sns.countplot(y='Origin',x='Quantity',data= n_data,orient='h',\n",
    "#            estimator =sum )\n",
    "ax= sns.pointplot(data=conversion_trend_df, x='hour',y='count',hue='channel')\n",
    "#ax.bar_label(ax.containers[0],size = 13)\n",
    "for i in ax.containers:\n",
    "    ax.bar_label(i,)\n",
    "sns.despine(left = True,bottom=True)\n",
    "ax.set(xlabel=None)\n",
    "ax.set(ylabel=None)\n",
    "#ax.set(xticklabels=[])\n",
    "ax.set(yticks=[])\n",
    "#plt.ylabel('Origin',fontsize=30)\n",
    "plt.tick_params(axis='both', which='major', labelsize=10)\n",
    "plt.show()"
   ]
  },
  {
   "cell_type": "code",
   "execution_count": null,
   "metadata": {},
   "outputs": [],
   "source": []
  }
 ],
 "metadata": {
  "kernelspec": {
   "display_name": "Python 3 (ipykernel)",
   "language": "python",
   "name": "python3"
  },
  "language_info": {
   "codemirror_mode": {
    "name": "ipython",
    "version": 3
   },
   "file_extension": ".py",
   "mimetype": "text/x-python",
   "name": "python",
   "nbconvert_exporter": "python",
   "pygments_lexer": "ipython3",
   "version": "3.9.5"
  },
  "vscode": {
   "interpreter": {
    "hash": "aee8b7b246df8f9039afb4144a1f6fd8d2ca17a180786b69acc140d282b71a49"
   }
  }
 },
 "nbformat": 4,
 "nbformat_minor": 2
}
